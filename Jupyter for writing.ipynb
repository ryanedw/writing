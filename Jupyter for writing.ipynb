{
 "cells": [
  {
   "cell_type": "markdown",
   "metadata": {},
   "source": [
    "<center>\n",
    "    <font size=+3>\n",
    "        Writing with a Jupyter notebook \n",
    "    </font>\n",
    "        </center>"
   ]
  },
  {
   "cell_type": "markdown",
   "metadata": {},
   "source": [
    "<h1>Fonts</h1>"
   ]
  },
  {
   "cell_type": "markdown",
   "metadata": {},
   "source": [
    "This is the default font. Not exactly the coolest, but it will fly."
   ]
  },
  {
   "cell_type": "markdown",
   "metadata": {},
   "source": [
    "<font style=\"font-family: verdana\">This is Verdana</font>"
   ]
  },
  {
   "cell_type": "markdown",
   "metadata": {},
   "source": [
    "<font style=\"font-family: Times New Roman\">This is Times New Roman</font>"
   ]
  },
  {
   "cell_type": "markdown",
   "metadata": {},
   "source": [
    "<font style=\"font-family: Times\">This is Times</font>"
   ]
  },
  {
   "cell_type": "markdown",
   "metadata": {},
   "source": [
    "<font style=\"font-family: arial\">This is Arial</font>"
   ]
  },
  {
   "cell_type": "markdown",
   "metadata": {},
   "source": [
    "<font style=\"font-family: courier\">This is Courier</font>"
   ]
  },
  {
   "cell_type": "markdown",
   "metadata": {},
   "source": [
    "<font style=\"font-family: comic sans ms\">This is Comic Sans MS</font>"
   ]
  },
  {
   "cell_type": "markdown",
   "metadata": {},
   "source": [
    "Anyway we get the idea."
   ]
  },
  {
   "cell_type": "markdown",
   "metadata": {},
   "source": [
    "<h1>Links and images</h1>"
   ]
  },
  {
   "cell_type": "markdown",
   "metadata": {},
   "source": [
    "<a href=\"https://www.jackson-pollock.org/convergence.jsp\"><img src=\"https://www.jackson-pollock.org/images/paintings/convergence.jpg\" width=\"500\" align=\"right\"></a>\n",
    "At right, \"Convergence,\" 1952 by Jackson Pollock.\n",
    "\n",
    "A convenient feature of the Jupyter platform is that it sits connected to the web. Authors could also copy and paste an image into a more familiar word processor like Microsoft Word, of course. And they could also insert a hyperlink into the Word document or the PDF it produces. Jupyter can do that too."
   ]
  },
  {
   "cell_type": "markdown",
   "metadata": {},
   "source": [
    "<h1>Paragraphs</h1>"
   ]
  },
  {
   "cell_type": "markdown",
   "metadata": {},
   "source": [
    "Students can manually break paragraphs within a Markdown cell by hitting \"return\" twice.\n",
    "\n",
    "Doing so produces a space and a new line."
   ]
  },
  {
   "cell_type": "markdown",
   "metadata": {},
   "source": [
    "    Indenting with a \"tab\" seems to change the font to Courier. And it changes the font permanently, breaks wrapping, and applies the indent to the rest of the text.\n"
   ]
  },
  {
   "cell_type": "markdown",
   "metadata": {},
   "source": [
    "> To indent a quote, one can type \"> \" before the text. Apparently indenting the beginning of a paragraph, as one usually sees in books, is \"deprecated,\" as the data scientists would say."
   ]
  },
  {
   "cell_type": "markdown",
   "metadata": {},
   "source": [
    "Here is a copy-and-paste from Wikipedia on \"Aesthetics,\" to see how many words look when written together:"
   ]
  },
  {
   "cell_type": "markdown",
   "metadata": {},
   "source": [
    "Aesthetics (/ɛsˈθɛtɪks, iːs-/; also spelled esthetics) is a branch of philosophy that explores the nature of art, beauty, and taste, with the creation and appreciation of beauty.[1]\n",
    "\n",
    "In its more technical epistemological perspective, it is defined as the study of subjective and sensori-emotional values, sometimes called judgments of sentiment and taste.[2] Aesthetics studies how artists imagine, create and perform works of art; how people use, enjoy, and criticize art; and what happens in their minds when they look at paintings, listen to music, or read poetry, and understand what they see and hear. It also studies how they feel about art—why they like some works and not others, and how art can affect their moods, beliefs, and attitude toward life.[3] More broadly, scholars in the field define aesthetics as \"critical reflection on art, culture and nature\".[4][5] In modern English, the term aesthetic can also refer to a set of principles underlying the works of a particular art movement or theory: one speaks, for example, of the Cubist aesthetic.[6]"
   ]
  },
  {
   "cell_type": "markdown",
   "metadata": {},
   "source": [
    "<h1>Math</h1>"
   ]
  },
  {
   "cell_type": "markdown",
   "metadata": {},
   "source": [
    "A big draw for many is that Markdown not only includes HTML code but also $\\LaTeX$ code, for everyone who's memorized it all. LaTeX makes math easy:\n",
    "$$y = m x + b$$"
   ]
  },
  {
   "cell_type": "markdown",
   "metadata": {},
   "source": [
    "For folks wishing, for example, to describe a line formally, it is helpful to have LaTeX or some other mathtype available. MS Word allows equations of course."
   ]
  },
  {
   "cell_type": "code",
   "execution_count": null,
   "metadata": {},
   "outputs": [],
   "source": []
  }
 ],
 "metadata": {
  "kernelspec": {
   "display_name": "Python 3",
   "language": "python",
   "name": "python3"
  },
  "language_info": {
   "codemirror_mode": {
    "name": "ipython",
    "version": 3
   },
   "file_extension": ".py",
   "mimetype": "text/x-python",
   "name": "python",
   "nbconvert_exporter": "python",
   "pygments_lexer": "ipython3",
   "version": "3.6.5"
  }
 },
 "nbformat": 4,
 "nbformat_minor": 2
}
